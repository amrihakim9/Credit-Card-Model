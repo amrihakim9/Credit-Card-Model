{
 "cells": [
  {
   "cell_type": "markdown",
   "metadata": {},
   "source": [
    "# **Model Inference**"
   ]
  },
  {
   "cell_type": "markdown",
   "metadata": {},
   "source": [
    "## Import Libraries"
   ]
  },
  {
   "cell_type": "code",
   "execution_count": 1,
   "metadata": {},
   "outputs": [],
   "source": [
    "import pandas as pd\n",
    "import pickle"
   ]
  },
  {
   "cell_type": "markdown",
   "metadata": {},
   "source": [
    "Insight : Melakukan `import` `pandas dan pickle` untuk keperluan `model inference`."
   ]
  },
  {
   "cell_type": "markdown",
   "metadata": {},
   "source": [
    "## Load Models"
   ]
  },
  {
   "cell_type": "code",
   "execution_count": 2,
   "metadata": {},
   "outputs": [],
   "source": [
    "with open('preprocessor.pkl', 'rb') as file_1:\n",
    "  preprocessor=pickle.load(file_1)\n",
    "with open('model.pkl', 'rb') as file_2:\n",
    "  model=pickle.load(file_2)"
   ]
  },
  {
   "cell_type": "markdown",
   "metadata": {},
   "source": [
    "Insight : Melakukan `load models` menggunakan fungsi `load` pada `pickle`."
   ]
  },
  {
   "cell_type": "markdown",
   "metadata": {},
   "source": [
    "## Create New Datframe"
   ]
  },
  {
   "cell_type": "code",
   "execution_count": 3,
   "metadata": {},
   "outputs": [],
   "source": [
    "feat_values = {\n",
    "    \"Marital status\": [1],\n",
    "    \"Application mode\" : [1],\n",
    "    \"Application order\" : [5],\n",
    "    \"Course\" : [9853],\n",
    "    \"Daytime/evening attendance\" : [1],\n",
    "    \"Previous qualification\" : [1],\n",
    "    \"Mother's qualification\" : [19],\n",
    "    \"Father's qualification\" : [37],\n",
    "    \"Mother's occupation\" : [4],\n",
    "    \"Father's occupation\" : [9],\n",
    "    \"Displaced\" : [1],\n",
    "    \"Debtor\" : [0],\n",
    "    \"Tuition fees up to date\" : [0],\n",
    "    \"Gender\" : [1],\n",
    "    \"Scholarship holder\" : [0],\n",
    "    \"Previous qualification (grade)\" : [122],\n",
    "    \"Admission grade\" : [125],\n",
    "    \"Age at enrollment\" : [24],\n",
    "    \"Curricular units 1st sem (enrolled)\" : [2],\n",
    "    \"Curricular units 1st sem (evaluations)\" : [8],\n",
    "    \"Curricular units 1st sem (approved)\" : [6],\n",
    "    \"Curricular units 1st sem (grade)\" : [16],\n",
    "    \"Curricular units 2nd sem (enrolled)\" : [3],\n",
    "    \"Curricular units 2nd sem (evaluations)\" : [7],\n",
    "    \"Curricular units 2nd sem (approved)\" : [4],\n",
    "    \"Curricular units 2nd sem (grade)\" : [15]\n",
    "}\n",
    "\n",
    "new_df = pd.DataFrame(feat_values)"
   ]
  },
  {
   "cell_type": "markdown",
   "metadata": {},
   "source": [
    "Insight : Membuat `dataframe` baru untuk bahan `rekayasa` pada `prediksi` menggunakan fungsi `DataFrame` pada `pandas`."
   ]
  },
  {
   "cell_type": "markdown",
   "metadata": {},
   "source": [
    "## Prediction"
   ]
  },
  {
   "cell_type": "code",
   "execution_count": 4,
   "metadata": {},
   "outputs": [
    {
     "name": "stdout",
     "output_type": "stream",
     "text": [
      "Students may DROPOUT!\n"
     ]
    }
   ],
   "source": [
    "prep = preprocessor.transform(new_df)\n",
    "predictions = model.predict(prep)\n",
    "if predictions == 'Dropout':\n",
    "    print(\"Students may DROPOUT!\")\n",
    "elif predictions == 'Graduate':\n",
    "    print(\"Students may GRADUATE!\")\n",
    "else:\n",
    "    print(\"Students may ENROLL!\")"
   ]
  },
  {
   "cell_type": "markdown",
   "metadata": {},
   "source": [
    "Insight : Sebelum prediksi, terlebih dahulu dilakukan `transformasi` pada `preprocessor`. Lalu hasil transformasi tersebut dapat dilakukan `prediksi` dengan `model` menggunakan fungsi `predict`. maka `hasil` yang keluar pada `prediksi` `data rekayasa` adalah `Dropout` yang didefinisikan menggunakan kalimat \"Students may DROPOUT!\" oleh teknik kondisional `if-elif-else`."
   ]
  }
 ],
 "metadata": {
  "kernelspec": {
   "display_name": "base",
   "language": "python",
   "name": "python3"
  },
  "language_info": {
   "codemirror_mode": {
    "name": "ipython",
    "version": 3
   },
   "file_extension": ".py",
   "mimetype": "text/x-python",
   "name": "python",
   "nbconvert_exporter": "python",
   "pygments_lexer": "ipython3",
   "version": "3.11.7"
  }
 },
 "nbformat": 4,
 "nbformat_minor": 2
}
